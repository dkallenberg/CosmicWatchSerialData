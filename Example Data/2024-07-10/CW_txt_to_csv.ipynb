{
 "cells": [
  {
   "cell_type": "markdown",
   "metadata": {},
   "source": [
    "This code is to take the data output of a CosmicWatch as text and change it to a csv file."
   ]
  },
  {
   "cell_type": "code",
   "execution_count": 1,
   "metadata": {},
   "outputs": [
    {
     "name": "stdout",
     "output_type": "stream",
     "text": [
      "(16293, 10)\n",
      "(407, 10)\n"
     ]
    }
   ],
   "source": [
    "import pandas as pd\n",
    "from datetime import datetime, timedelta\n",
    "\n",
    "yearDT = '2024'\n",
    "monthDT = '07'\n",
    "dayDT = '10'\n",
    "hourDT = '08'\n",
    "minDT = '46'\n",
    "secDT = '57'\n",
    "\n",
    "fileDateTime = yearDT + '-' + monthDT+ '-' + dayDT + '_' + hourDT + '-' + minDT + '-' + secDT\n",
    "\n",
    "pFileName = fileDateTime + '_primary_data'\n",
    "ptxtName = pFileName + '.TXT'\n",
    "pcsvName = pFileName + '.csv'\n",
    "\n",
    "sFileName = fileDateTime + '_secondary_data'\n",
    "stxtName = sFileName + '.TXT'\n",
    "scsvName = sFileName + '.csv'\n",
    "\n",
    "def add_ms(row):\n",
    "    row['Time'] = dt + timedelta(milliseconds = row['RunTime'])\n",
    "\n",
    "# Read the .text file\n",
    "dfPrimary = pd.read_csv(ptxtName, sep=' ', skiprows=6, names=['Event', 'RunTime', 'ADC','SiPM','DownTime','Temp'])\n",
    "dfSecondary = pd.read_csv(stxtName, sep=' ', skiprows=6, names=['Event', 'RunTime', 'ADC','SiPM','DownTime','Temp'])\n",
    "\n",
    "timeFmt = \"yyyy-MM-dd' 'HH:mm:ss.SSS\"\n",
    "\n",
    "ts = datetime(int(yearDT),int(monthDT),int(dayDT),int(hourDT),int(minDT),int(secDT),0)\n",
    "ts_ms = ts.timestamp()*1000\n",
    "\n",
    "dfPrimary['Time_stamp_ms'] = ts_ms + dfPrimary.RunTime\n",
    "dfSecondary['Time_stamp_ms'] = ts_ms + dfSecondary.RunTime\n",
    "\n",
    "dfPrimary['Time_stamp'] = pd.to_datetime(dfPrimary['Time_stamp_ms'], unit='ms')\n",
    "dfSecondary['Time_stamp'] = pd.to_datetime(dfSecondary['Time_stamp_ms'], unit='ms')\n",
    "\n",
    "dfPrimary['Time_stamp2'] = dfPrimary['Time_stamp'].apply(lambda x: x.replace(microsecond=0))\n",
    "dfSecondary['Time_stamp2'] = dfSecondary['Time_stamp'].apply(lambda x: x.replace(microsecond=0))\n",
    "\n",
    "dfPrimary['Time_stamp3'] = dfPrimary['Time_stamp2'].apply(lambda x: x.replace(second=0))\n",
    "dfSecondary['Time_stamp3'] = dfSecondary['Time_stamp2'].apply(lambda x: x.replace(second=0))\n",
    "\n",
    "# Write the .csv file\n",
    "dfPrimary.to_csv(pcsvName, index=False)\n",
    "dfSecondary.to_csv(scsvName, index=False)\n",
    "\n",
    "print(dfPrimary.shape)\n",
    "print(dfSecondary.shape)"
   ]
  }
 ],
 "metadata": {
  "kernelspec": {
   "display_name": "base",
   "language": "python",
   "name": "python3"
  },
  "language_info": {
   "codemirror_mode": {
    "name": "ipython",
    "version": 3
   },
   "file_extension": ".py",
   "mimetype": "text/x-python",
   "name": "python",
   "nbconvert_exporter": "python",
   "pygments_lexer": "ipython3",
   "version": "3.11.9"
  },
  "orig_nbformat": 4
 },
 "nbformat": 4,
 "nbformat_minor": 2
}
